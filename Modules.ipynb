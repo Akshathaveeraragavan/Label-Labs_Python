{
 "cells": [
  {
   "cell_type": "code",
   "execution_count": 4,
   "id": "3e16b3f5",
   "metadata": {},
   "outputs": [
    {
     "name": "stdout",
     "output_type": "stream",
     "text": [
      "4\n"
     ]
    }
   ],
   "source": [
    "import random\n",
    "print(random.randint(1,10))"
   ]
  },
  {
   "cell_type": "code",
   "execution_count": 7,
   "id": "a4595108",
   "metadata": {},
   "outputs": [
    {
     "name": "stdout",
     "output_type": "stream",
     "text": [
      "0.9151547155401484\n"
     ]
    }
   ],
   "source": [
    "import random\n",
    "print(random.random())"
   ]
  },
  {
   "cell_type": "code",
   "execution_count": 9,
   "id": "6e791c04",
   "metadata": {},
   "outputs": [
    {
     "name": "stdout",
     "output_type": "stream",
     "text": [
      "2\n"
     ]
    }
   ],
   "source": [
    "import random\n",
    "print(random.randrange(0,10))"
   ]
  },
  {
   "cell_type": "code",
   "execution_count": 11,
   "id": "a7a32dde",
   "metadata": {},
   "outputs": [
    {
     "name": "stdout",
     "output_type": "stream",
     "text": [
      "3.1931921348076298\n"
     ]
    }
   ],
   "source": [
    "import random\n",
    "print(random.uniform(7.6,1.5))"
   ]
  },
  {
   "cell_type": "code",
   "execution_count": 15,
   "id": "5a5ee928",
   "metadata": {},
   "outputs": [
    {
     "name": "stdout",
     "output_type": "stream",
     "text": [
      "O\n"
     ]
    }
   ],
   "source": [
    "import random\n",
    "print(random.choice('HELLO'))"
   ]
  },
  {
   "cell_type": "code",
   "execution_count": 25,
   "id": "28801498",
   "metadata": {},
   "outputs": [
    {
     "name": "stdout",
     "output_type": "stream",
     "text": [
      "[2, 3, 1]\n"
     ]
    }
   ],
   "source": [
    "import random\n",
    "nums=[1,2,3]\n",
    "random.shuffle(nums)\n",
    "print(nums)"
   ]
  },
  {
   "cell_type": "code",
   "execution_count": 16,
   "id": "a009578d",
   "metadata": {},
   "outputs": [],
   "source": [
    "# pi\n",
    "# tau\n",
    "# e\n",
    "# inf\n",
    "# nan"
   ]
  },
  {
   "cell_type": "code",
   "execution_count": 18,
   "id": "f89133b8",
   "metadata": {},
   "outputs": [],
   "source": [
    "# fabs()\n",
    "# exp (x)\n",
    "# floor(x)\n",
    "# ceil(x)\n",
    "# sqrt(x)\n",
    "# pow(x,y)\n",
    "# trunc(x)\n",
    "# round(x)"
   ]
  },
  {
   "cell_type": "code",
   "execution_count": 26,
   "id": "c2590001",
   "metadata": {},
   "outputs": [
    {
     "name": "stdout",
     "output_type": "stream",
     "text": [
      "3.141592653589793\n"
     ]
    }
   ],
   "source": [
    "import math\n",
    "print(math.pi)"
   ]
  },
  {
   "cell_type": "code",
   "execution_count": 27,
   "id": "a1e744b1",
   "metadata": {},
   "outputs": [
    {
     "name": "stdout",
     "output_type": "stream",
     "text": [
      "6.283185307179586\n"
     ]
    }
   ],
   "source": [
    "import math\n",
    "print(math.tau)"
   ]
  },
  {
   "cell_type": "code",
   "execution_count": 28,
   "id": "46cb0aaf",
   "metadata": {},
   "outputs": [
    {
     "name": "stdout",
     "output_type": "stream",
     "text": [
      "2.718281828459045\n"
     ]
    }
   ],
   "source": [
    "import math\n",
    "print(math.e)"
   ]
  },
  {
   "cell_type": "code",
   "execution_count": 29,
   "id": "7bf156cc",
   "metadata": {},
   "outputs": [
    {
     "name": "stdout",
     "output_type": "stream",
     "text": [
      "inf\n"
     ]
    }
   ],
   "source": [
    "import math\n",
    "print(math.inf)"
   ]
  },
  {
   "cell_type": "code",
   "execution_count": 30,
   "id": "9930672e",
   "metadata": {},
   "outputs": [
    {
     "name": "stdout",
     "output_type": "stream",
     "text": [
      "nan\n"
     ]
    }
   ],
   "source": [
    "import math\n",
    "print(math.nan)"
   ]
  },
  {
   "cell_type": "code",
   "execution_count": 31,
   "id": "ed4959ff",
   "metadata": {},
   "outputs": [
    {
     "name": "stdout",
     "output_type": "stream",
     "text": [
      "7.0\n"
     ]
    }
   ],
   "source": [
    "import math\n",
    "print(math.fabs(-7))"
   ]
  },
  {
   "cell_type": "code",
   "execution_count": 32,
   "id": "602a1220",
   "metadata": {},
   "outputs": [
    {
     "name": "stdout",
     "output_type": "stream",
     "text": [
      "0.1353352832366127\n"
     ]
    }
   ],
   "source": [
    "import math\n",
    "print(math.exp(-2))"
   ]
  },
  {
   "cell_type": "code",
   "execution_count": 33,
   "id": "5cc47bd8",
   "metadata": {},
   "outputs": [
    {
     "name": "stdout",
     "output_type": "stream",
     "text": [
      "7\n"
     ]
    }
   ],
   "source": [
    "import math\n",
    "print(math.floor(7.6))"
   ]
  },
  {
   "cell_type": "code",
   "execution_count": 34,
   "id": "88b0ea7c",
   "metadata": {},
   "outputs": [
    {
     "name": "stdout",
     "output_type": "stream",
     "text": [
      "8\n"
     ]
    }
   ],
   "source": [
    "import math\n",
    "print(math.ceil(7.6))"
   ]
  },
  {
   "cell_type": "code",
   "execution_count": 35,
   "id": "6caea9df",
   "metadata": {},
   "outputs": [
    {
     "name": "stdout",
     "output_type": "stream",
     "text": [
      "6\n"
     ]
    }
   ],
   "source": [
    "import math\n",
    "print(math.trunc(6.54))"
   ]
  },
  {
   "cell_type": "code",
   "execution_count": 37,
   "id": "17eb1a31",
   "metadata": {},
   "outputs": [
    {
     "name": "stdout",
     "output_type": "stream",
     "text": [
      "8\n"
     ]
    }
   ],
   "source": [
    "import math\n",
    "print(round(7.8))"
   ]
  },
  {
   "cell_type": "code",
   "execution_count": 38,
   "id": "e1127a0f",
   "metadata": {},
   "outputs": [
    {
     "name": "stdout",
     "output_type": "stream",
     "text": [
      "0.8939966636005579\n"
     ]
    }
   ],
   "source": [
    "import math\n",
    "print(math.sin(90))"
   ]
  },
  {
   "cell_type": "code",
   "execution_count": 39,
   "id": "f8ade4d9",
   "metadata": {},
   "outputs": [
    {
     "name": "stdout",
     "output_type": "stream",
     "text": [
      "0.9424777960769379\n"
     ]
    }
   ],
   "source": [
    "import math\n",
    "print(math.radians(54))"
   ]
  },
  {
   "cell_type": "code",
   "execution_count": 41,
   "id": "fcf3de57",
   "metadata": {},
   "outputs": [
    {
     "name": "stdout",
     "output_type": "stream",
     "text": [
      "3724.225668350351\n"
     ]
    }
   ],
   "source": [
    "import math\n",
    "print(math.degrees(65))"
   ]
  },
  {
   "cell_type": "code",
   "execution_count": 42,
   "id": "8a264582",
   "metadata": {},
   "outputs": [
    {
     "name": "stdout",
     "output_type": "stream",
     "text": [
      "5040\n"
     ]
    }
   ],
   "source": [
    "import math\n",
    "print(math.factorial(7))"
   ]
  },
  {
   "cell_type": "code",
   "execution_count": 43,
   "id": "0f0d68e2",
   "metadata": {},
   "outputs": [
    {
     "name": "stdout",
     "output_type": "stream",
     "text": [
      "210\n"
     ]
    }
   ],
   "source": [
    "import math\n",
    "print(math.comb(10,4))"
   ]
  },
  {
   "cell_type": "code",
   "execution_count": 44,
   "id": "ae29ac37",
   "metadata": {},
   "outputs": [
    {
     "name": "stdout",
     "output_type": "stream",
     "text": [
      "2.4849066497880004\n"
     ]
    }
   ],
   "source": [
    "import math\n",
    "print(math.log(12))"
   ]
  },
  {
   "cell_type": "code",
   "execution_count": 45,
   "id": "46e807aa",
   "metadata": {},
   "outputs": [
    {
     "name": "stdout",
     "output_type": "stream",
     "text": [
      "0.6989700043360189\n"
     ]
    }
   ],
   "source": [
    "import math\n",
    "print(math.log10(5))"
   ]
  },
  {
   "cell_type": "code",
   "execution_count": 46,
   "id": "23c9eb11",
   "metadata": {},
   "outputs": [
    {
     "name": "stdout",
     "output_type": "stream",
     "text": [
      "1.7924812503605783\n"
     ]
    }
   ],
   "source": [
    "import math\n",
    "print(math.log(12,4))"
   ]
  },
  {
   "cell_type": "code",
   "execution_count": 47,
   "id": "3b1b214b",
   "metadata": {},
   "outputs": [
    {
     "name": "stdout",
     "output_type": "stream",
     "text": [
      "enter radius:54\n",
      "339.29200658769764 9160.884177867836\n"
     ]
    }
   ],
   "source": [
    "import math\n",
    "radius=eval(input('enter radius:'))\n",
    "circumference=2*math.pi*radius\n",
    "area=math.pi*radius*radius\n",
    "print(circumference,area)"
   ]
  },
  {
   "cell_type": "code",
   "execution_count": null,
   "id": "7c3d39bb",
   "metadata": {},
   "outputs": [],
   "source": []
  }
 ],
 "metadata": {
  "kernelspec": {
   "display_name": "Python 3 (ipykernel)",
   "language": "python",
   "name": "python3"
  },
  "language_info": {
   "codemirror_mode": {
    "name": "ipython",
    "version": 3
   },
   "file_extension": ".py",
   "mimetype": "text/x-python",
   "name": "python",
   "nbconvert_exporter": "python",
   "pygments_lexer": "ipython3",
   "version": "3.9.13"
  }
 },
 "nbformat": 4,
 "nbformat_minor": 5
}
