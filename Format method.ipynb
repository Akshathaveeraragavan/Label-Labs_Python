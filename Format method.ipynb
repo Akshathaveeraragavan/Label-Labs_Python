{
 "cells": [
  {
   "cell_type": "code",
   "execution_count": 1,
   "id": "c7c749b9",
   "metadata": {},
   "outputs": [
    {
     "name": "stdout",
     "output_type": "stream",
     "text": [
      "My name is label labs and im 10 years old\n"
     ]
    }
   ],
   "source": [
    "name='label labs'\n",
    "age=10\n",
    "print('My name is {} and im {} years old'.format(name,age))"
   ]
  },
  {
   "cell_type": "code",
   "execution_count": 3,
   "id": "cff06791",
   "metadata": {},
   "outputs": [
    {
     "name": "stdout",
     "output_type": "stream",
     "text": [
      "My name is label labs and im 10 years old\n"
     ]
    }
   ],
   "source": [
    "\n",
    "print('My name is {name} and im {age} years old'.format(name='label labs',age=10))"
   ]
  },
  {
   "cell_type": "code",
   "execution_count": 4,
   "id": "69fac6cb",
   "metadata": {},
   "outputs": [
    {
     "name": "stdout",
     "output_type": "stream",
     "text": [
      "Im 10 years old and my name is label labs\n"
     ]
    }
   ],
   "source": [
    "name='label labs'\n",
    "age=10\n",
    "print('Im {1} years old and my name is {0}'.format(name,age))"
   ]
  },
  {
   "cell_type": "code",
   "execution_count": null,
   "id": "e3047943",
   "metadata": {},
   "outputs": [],
   "source": []
  }
 ],
 "metadata": {
  "kernelspec": {
   "display_name": "Python 3 (ipykernel)",
   "language": "python",
   "name": "python3"
  },
  "language_info": {
   "codemirror_mode": {
    "name": "ipython",
    "version": 3
   },
   "file_extension": ".py",
   "mimetype": "text/x-python",
   "name": "python",
   "nbconvert_exporter": "python",
   "pygments_lexer": "ipython3",
   "version": "3.9.13"
  }
 },
 "nbformat": 4,
 "nbformat_minor": 5
}
