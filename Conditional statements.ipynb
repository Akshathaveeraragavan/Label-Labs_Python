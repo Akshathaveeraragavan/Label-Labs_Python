{
 "cells": [
  {
   "cell_type": "code",
   "execution_count": 1,
   "id": "43e5728a",
   "metadata": {},
   "outputs": [
    {
     "name": "stdout",
     "output_type": "stream",
     "text": [
      "You cannot make a purchase\n"
     ]
    }
   ],
   "source": [
    "bank_balance=1000\n",
    "if bank_balance>2000:\n",
    "    print('you can make a purchase ') # indentation\n",
    "else:\n",
    "    print('You cannot make a purchase')"
   ]
  },
  {
   "cell_type": "code",
   "execution_count": 4,
   "id": "6427b2a8",
   "metadata": {},
   "outputs": [
    {
     "name": "stdout",
     "output_type": "stream",
     "text": [
      "Enter temp:20\n",
      "moderate clothing\n"
     ]
    }
   ],
   "source": [
    "temp=eval(input('Enter temp:'))\n",
    "if temp>30:\n",
    "    print('light clothing')\n",
    "elif temp>=20 and temp<=30:\n",
    "    print('moderate clothing')\n",
    "elif temp>=10 and temp<=20:\n",
    "    print('Warm clothing')\n",
    "else:\n",
    "    print('heavy winter clothing')"
   ]
  },
  {
   "cell_type": "code",
   "execution_count": 6,
   "id": "ffc8001d",
   "metadata": {},
   "outputs": [
    {
     "name": "stdout",
     "output_type": "stream",
     "text": [
      "Do you want to go for a vacation?no\n",
      "Stay at home\n"
     ]
    }
   ],
   "source": [
    "vacation=input('Do you want to go for a vacation?')\n",
    "if vacation=='yes':\n",
    "    budget=eval(input('Enter the budget..'))\n",
    "    if budget>1000:\n",
    "        print('go to an international destination')\n",
    "    else:\n",
    "        print('Go for camping')\n",
    "else:\n",
    "    print('Stay at home')\n",
    "    "
   ]
  },
  {
   "cell_type": "code",
   "execution_count": null,
   "id": "a9e3dea8",
   "metadata": {},
   "outputs": [],
   "source": []
  }
 ],
 "metadata": {
  "kernelspec": {
   "display_name": "Python 3 (ipykernel)",
   "language": "python",
   "name": "python3"
  },
  "language_info": {
   "codemirror_mode": {
    "name": "ipython",
    "version": 3
   },
   "file_extension": ".py",
   "mimetype": "text/x-python",
   "name": "python",
   "nbconvert_exporter": "python",
   "pygments_lexer": "ipython3",
   "version": "3.9.13"
  }
 },
 "nbformat": 4,
 "nbformat_minor": 5
}
