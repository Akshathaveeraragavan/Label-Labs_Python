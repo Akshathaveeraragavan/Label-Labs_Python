{
 "cells": [
  {
   "cell_type": "code",
   "execution_count": 1,
   "id": "b1466ca8",
   "metadata": {},
   "outputs": [
    {
     "name": "stdout",
     "output_type": "stream",
     "text": [
      "Enter your password:56\n",
      "wrong password\n",
      "Enter your password:4326\n",
      "wrong password\n",
      "Enter your password:12345\n",
      "Hey thats correct password\n"
     ]
    }
   ],
   "source": [
    "password=input('Enter your password:')\n",
    "while password!='12345':\n",
    "    print('wrong password')\n",
    "    password=input('Enter your password:')\n",
    "else:\n",
    "    print('Hey thats correct password')"
   ]
  },
  {
   "cell_type": "code",
   "execution_count": null,
   "id": "75cb475c",
   "metadata": {},
   "outputs": [],
   "source": [
    "factorial of 2 = 2*1\n",
    "fact"
   ]
  }
 ],
 "metadata": {
  "kernelspec": {
   "display_name": "Python 3 (ipykernel)",
   "language": "python",
   "name": "python3"
  },
  "language_info": {
   "codemirror_mode": {
    "name": "ipython",
    "version": 3
   },
   "file_extension": ".py",
   "mimetype": "text/x-python",
   "name": "python",
   "nbconvert_exporter": "python",
   "pygments_lexer": "ipython3",
   "version": "3.9.13"
  }
 },
 "nbformat": 4,
 "nbformat_minor": 5
}
