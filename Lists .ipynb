{
 "cells": [
  {
   "cell_type": "code",
   "execution_count": 3,
   "id": "5a00ad47",
   "metadata": {},
   "outputs": [
    {
     "name": "stdout",
     "output_type": "stream",
     "text": [
      "apple\n"
     ]
    }
   ],
   "source": [
    "list1=['milk','eggs','apple','banana']\n",
    "print(list1[2])"
   ]
  },
  {
   "cell_type": "code",
   "execution_count": 5,
   "id": "8fbd9a24",
   "metadata": {},
   "outputs": [
    {
     "name": "stdout",
     "output_type": "stream",
     "text": [
      "False\n"
     ]
    }
   ],
   "source": [
    "list1=['milk','eggs','apple','banana']\n",
    "print('eggs' not in list1)"
   ]
  },
  {
   "cell_type": "code",
   "execution_count": 1,
   "id": "356547c6",
   "metadata": {},
   "outputs": [],
   "source": [
    "# append()\n",
    "# clear ()\n",
    "# copy()\n",
    "# count()\n",
    "# index()\n",
    "# insert()\n",
    "# pop()\n",
    "# remove()\n",
    "# reverse()\n",
    "# sort()"
   ]
  },
  {
   "cell_type": "code",
   "execution_count": 6,
   "id": "c50703e9",
   "metadata": {},
   "outputs": [
    {
     "name": "stdout",
     "output_type": "stream",
     "text": [
      "['milk', 'eggs', 'apple', 'banana', 'chocolate']\n"
     ]
    }
   ],
   "source": [
    "list1=['milk','eggs','apple','banana']\n",
    "list1.append('chocolate')\n",
    "print(list1)"
   ]
  },
  {
   "cell_type": "code",
   "execution_count": 7,
   "id": "5eb21d95",
   "metadata": {},
   "outputs": [
    {
     "name": "stdout",
     "output_type": "stream",
     "text": [
      "['milk', 'eggs', 'apple', 'banana']\n"
     ]
    }
   ],
   "source": [
    "list1=['milk','eggs','apple','banana']\n",
    "list2=list1.copy()\n",
    "print(list2)"
   ]
  },
  {
   "cell_type": "code",
   "execution_count": 8,
   "id": "c48ceb43",
   "metadata": {},
   "outputs": [
    {
     "name": "stdout",
     "output_type": "stream",
     "text": [
      "3\n"
     ]
    }
   ],
   "source": [
    "list1=['milk','eggs','eggs','eggs','apple','banana']\n",
    "print(list1.count('eggs'))"
   ]
  },
  {
   "cell_type": "code",
   "execution_count": 9,
   "id": "f1bfe974",
   "metadata": {},
   "outputs": [
    {
     "name": "stdout",
     "output_type": "stream",
     "text": [
      "[]\n"
     ]
    }
   ],
   "source": [
    "list1=['milk','eggs','apple','banana']\n",
    "list1.clear()\n",
    "print(list1)"
   ]
  },
  {
   "cell_type": "code",
   "execution_count": 10,
   "id": "f19e00b3",
   "metadata": {},
   "outputs": [
    {
     "name": "stdout",
     "output_type": "stream",
     "text": [
      "2\n"
     ]
    }
   ],
   "source": [
    "list1=['bread','milk','eggs','apple']\n",
    "print(list1.index('eggs'))"
   ]
  },
  {
   "cell_type": "code",
   "execution_count": 11,
   "id": "3da92b1b",
   "metadata": {},
   "outputs": [
    {
     "name": "stdout",
     "output_type": "stream",
     "text": [
      "['bread', 'milk', 'banana', 'eggs', 'apple']\n"
     ]
    }
   ],
   "source": [
    "list1=['bread','milk','eggs','apple']\n",
    "list1.insert(2,'banana')\n",
    "print(list1)"
   ]
  },
  {
   "cell_type": "code",
   "execution_count": 12,
   "id": "9d91f3d8",
   "metadata": {},
   "outputs": [
    {
     "name": "stdout",
     "output_type": "stream",
     "text": [
      "['bread', 'eggs', 'apple']\n"
     ]
    }
   ],
   "source": [
    "list1=['bread','milk','eggs','apple']\n",
    "list1.pop(1)\n",
    "print(list1)"
   ]
  },
  {
   "cell_type": "code",
   "execution_count": 13,
   "id": "d860c67e",
   "metadata": {},
   "outputs": [
    {
     "name": "stdout",
     "output_type": "stream",
     "text": [
      "['bread', 'eggs', 'apple']\n"
     ]
    }
   ],
   "source": [
    "list1=['bread','milk','eggs','apple']\n",
    "list1.remove('milk')\n",
    "print(list1)"
   ]
  },
  {
   "cell_type": "code",
   "execution_count": 16,
   "id": "b038cdb0",
   "metadata": {},
   "outputs": [
    {
     "name": "stdout",
     "output_type": "stream",
     "text": [
      "['apple', 'eggs', 'milk', 'bread']\n"
     ]
    }
   ],
   "source": [
    "list1=['bread','milk','eggs','apple']\n",
    "list1.reverse()\n",
    "print(list1)"
   ]
  },
  {
   "cell_type": "code",
   "execution_count": 17,
   "id": "51b32337",
   "metadata": {},
   "outputs": [
    {
     "name": "stdout",
     "output_type": "stream",
     "text": [
      "[5, 8, 10, 11]\n"
     ]
    }
   ],
   "source": [
    "list1=[11,5,8,10]\n",
    "list1.sort()\n",
    "print(list1)\n"
   ]
  },
  {
   "cell_type": "code",
   "execution_count": 18,
   "id": "0cccd3d7",
   "metadata": {},
   "outputs": [
    {
     "name": "stdout",
     "output_type": "stream",
     "text": [
      "the total duration of the playlist is: 16.2\n"
     ]
    }
   ],
   "source": [
    "playlist=[3.5,4.0,8.7]\n",
    "print('the total duration of the playlist is:',sum(playlist))"
   ]
  },
  {
   "cell_type": "code",
   "execution_count": 19,
   "id": "6f979321",
   "metadata": {},
   "outputs": [
    {
     "name": "stdout",
     "output_type": "stream",
     "text": [
      "[1, 2, 3, 4, 5, 6]\n"
     ]
    }
   ],
   "source": [
    "list1=[1,2,3]\n",
    "list2=[4,5,6]\n",
    "print(list1+list2)"
   ]
  },
  {
   "cell_type": "code",
   "execution_count": null,
   "id": "53d17ec3",
   "metadata": {},
   "outputs": [],
   "source": []
  }
 ],
 "metadata": {
  "kernelspec": {
   "display_name": "Python 3 (ipykernel)",
   "language": "python",
   "name": "python3"
  },
  "language_info": {
   "codemirror_mode": {
    "name": "ipython",
    "version": 3
   },
   "file_extension": ".py",
   "mimetype": "text/x-python",
   "name": "python",
   "nbconvert_exporter": "python",
   "pygments_lexer": "ipython3",
   "version": "3.9.13"
  }
 },
 "nbformat": 4,
 "nbformat_minor": 5
}
