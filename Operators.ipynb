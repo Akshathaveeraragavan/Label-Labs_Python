{
 "cells": [
  {
   "cell_type": "markdown",
   "id": "bb0a8d33",
   "metadata": {},
   "source": [
    "2+3=5\n",
    "2,3,5 = operands\n",
    "+,= - operators "
   ]
  },
  {
   "cell_type": "code",
   "execution_count": 2,
   "id": "49e7de6b",
   "metadata": {
    "scrolled": true
   },
   "outputs": [
    {
     "name": "stdout",
     "output_type": "stream",
     "text": [
      "30\n",
      "-10\n",
      "200\n",
      "0.5\n",
      "0\n",
      "10\n",
      "100000000000000000000\n"
     ]
    }
   ],
   "source": [
    "a=10\n",
    "b=20\n",
    "print(a+b)\n",
    "print(a-b)\n",
    "print(a*b)\n",
    "print(a/b) # division\n",
    "print(a//b) # floor division\n",
    "print(a%b) # remainder \n",
    "print(a**b)"
   ]
  },
  {
   "cell_type": "code",
   "execution_count": 3,
   "id": "8505a771",
   "metadata": {},
   "outputs": [
    {
     "name": "stdout",
     "output_type": "stream",
     "text": [
      "False\n",
      "True\n",
      "False\n",
      "True\n",
      "False\n",
      "True\n"
     ]
    }
   ],
   "source": [
    "a=5\n",
    "b=2\n",
    "print(a==b)\n",
    "print(a!=b)\n",
    "print(a<b)\n",
    "print(a>b)\n",
    "print(a<=b)\n",
    "print(a>=b)"
   ]
  },
  {
   "cell_type": "code",
   "execution_count": 5,
   "id": "270e002b",
   "metadata": {},
   "outputs": [
    {
     "name": "stdout",
     "output_type": "stream",
     "text": [
      "False\n"
     ]
    }
   ],
   "source": [
    "print(7<6 and 4<5)"
   ]
  },
  {
   "cell_type": "code",
   "execution_count": 6,
   "id": "a9c8d37c",
   "metadata": {},
   "outputs": [
    {
     "name": "stdout",
     "output_type": "stream",
     "text": [
      "True\n"
     ]
    }
   ],
   "source": [
    "print(7<6 or 4<5)"
   ]
  },
  {
   "cell_type": "code",
   "execution_count": 7,
   "id": "2a23a0d3",
   "metadata": {},
   "outputs": [
    {
     "name": "stdout",
     "output_type": "stream",
     "text": [
      "True\n"
     ]
    }
   ],
   "source": [
    "print(not 3>8)"
   ]
  },
  {
   "cell_type": "code",
   "execution_count": 13,
   "id": "793b0e85",
   "metadata": {},
   "outputs": [
    {
     "name": "stdout",
     "output_type": "stream",
     "text": [
      "100000\n"
     ]
    }
   ],
   "source": [
    "a=10\n",
    "a**=5 # a=a-5\n",
    "print(a)"
   ]
  },
  {
   "cell_type": "code",
   "execution_count": 14,
   "id": "008f6735",
   "metadata": {},
   "outputs": [],
   "source": [
    "# and - both bits are 1 , ans is 1 . else 0\n",
    "# or - one of bit is 1 , ans is 1 . else 0\n",
    "# xor - different bits , ans is 1 . else 0\n",
    "# not - 0 means 1 . 1 means 0"
   ]
  },
  {
   "cell_type": "code",
   "execution_count": 18,
   "id": "83853cdf",
   "metadata": {},
   "outputs": [
    {
     "name": "stdout",
     "output_type": "stream",
     "text": [
      "-7\n"
     ]
    }
   ],
   "source": [
    "print(~6)"
   ]
  },
  {
   "cell_type": "code",
   "execution_count": 21,
   "id": "2d4d8cdb",
   "metadata": {},
   "outputs": [
    {
     "name": "stdout",
     "output_type": "stream",
     "text": [
      "True\n"
     ]
    }
   ],
   "source": [
    "items=['pen','pencil','eraser']\n",
    "print('mango' not in items)"
   ]
  },
  {
   "cell_type": "code",
   "execution_count": 24,
   "id": "3f7742fd",
   "metadata": {},
   "outputs": [
    {
     "name": "stdout",
     "output_type": "stream",
     "text": [
      "True\n"
     ]
    }
   ],
   "source": [
    "a=10\n",
    "b=7\n",
    "print(a is not b)"
   ]
  },
  {
   "cell_type": "code",
   "execution_count": 26,
   "id": "cf5497b9",
   "metadata": {},
   "outputs": [
    {
     "name": "stdout",
     "output_type": "stream",
     "text": [
      "enter num189\n",
      "enter num2:4.5\n",
      "enter num3:2\n",
      "average is: 31.833333333333332\n"
     ]
    }
   ],
   "source": [
    "num1=eval(input('enter num1'))\n",
    "num2=eval(input('enter num2:'))\n",
    "num3=eval(input('enter num3:'))\n",
    "sum_nums=num1+num2+num3\n",
    "print('average is:',sum_nums/3)"
   ]
  },
  {
   "cell_type": "code",
   "execution_count": 28,
   "id": "e423d83f",
   "metadata": {},
   "outputs": [
    {
     "name": "stdout",
     "output_type": "stream",
     "text": [
      "enter num1:10\n",
      "enter num2:10\n",
      "True\n"
     ]
    }
   ],
   "source": [
    "num1=int(input('enter num1:'))\n",
    "num2=int(input('enter num2:'))\n",
    "print(num1==num2)"
   ]
  },
  {
   "cell_type": "code",
   "execution_count": 30,
   "id": "dcf9fd7a",
   "metadata": {},
   "outputs": [
    {
     "name": "stdout",
     "output_type": "stream",
     "text": [
      "-10\n"
     ]
    }
   ],
   "source": [
    "a=10\n",
    "a-=20\n",
    "print(a)"
   ]
  },
  {
   "cell_type": "code",
   "execution_count": null,
   "id": "2b691f9d",
   "metadata": {},
   "outputs": [],
   "source": []
  }
 ],
 "metadata": {
  "kernelspec": {
   "display_name": "Python 3 (ipykernel)",
   "language": "python",
   "name": "python3"
  },
  "language_info": {
   "codemirror_mode": {
    "name": "ipython",
    "version": 3
   },
   "file_extension": ".py",
   "mimetype": "text/x-python",
   "name": "python",
   "nbconvert_exporter": "python",
   "pygments_lexer": "ipython3",
   "version": "3.9.13"
  }
 },
 "nbformat": 4,
 "nbformat_minor": 5
}
