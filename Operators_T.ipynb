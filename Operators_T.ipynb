{
 "cells": [
  {
   "cell_type": "markdown",
   "id": "b3a037a0",
   "metadata": {},
   "source": [
    "2+3=5\n",
    "2,3,5 = operands\n",
    "+ , = - operators"
   ]
  },
  {
   "cell_type": "code",
   "execution_count": 2,
   "id": "a195989b",
   "metadata": {},
   "outputs": [
    {
     "name": "stdout",
     "output_type": "stream",
     "text": [
      "30\n",
      "-10\n",
      "200\n",
      "0.5\n",
      "0\n",
      "10\n",
      "100000000000000000000\n"
     ]
    }
   ],
   "source": [
    "a=10\n",
    "b=20\n",
    "print(a+b)\n",
    "print(a-b)\n",
    "print(a*b)\n",
    "print(a/b) # division\n",
    "print(a//b) # floor division\n",
    "print(a%b) # remainder\n",
    "print(a**b)"
   ]
  },
  {
   "cell_type": "code",
   "execution_count": 3,
   "id": "6ed3aaa3",
   "metadata": {},
   "outputs": [
    {
     "name": "stdout",
     "output_type": "stream",
     "text": [
      "False\n",
      "True\n",
      "False\n",
      "True\n",
      "False\n",
      "True\n"
     ]
    }
   ],
   "source": [
    "a=5\n",
    "b=2\n",
    "print(a==b)\n",
    "print(a!=b)\n",
    "print(a<b)\n",
    "print(a>b)\n",
    "print(a<=b)\n",
    "print(a>=b)"
   ]
  },
  {
   "cell_type": "code",
   "execution_count": 4,
   "id": "c7dffb59",
   "metadata": {},
   "outputs": [
    {
     "name": "stdout",
     "output_type": "stream",
     "text": [
      "False\n"
     ]
    }
   ],
   "source": [
    "print(7>9 and 1<3)"
   ]
  },
  {
   "cell_type": "code",
   "execution_count": 5,
   "id": "e54b0144",
   "metadata": {},
   "outputs": [
    {
     "name": "stdout",
     "output_type": "stream",
     "text": [
      "True\n"
     ]
    }
   ],
   "source": [
    "print(7>9 or 1<3)"
   ]
  },
  {
   "cell_type": "code",
   "execution_count": 6,
   "id": "4b2c4bb3",
   "metadata": {},
   "outputs": [
    {
     "name": "stdout",
     "output_type": "stream",
     "text": [
      "True\n"
     ]
    }
   ],
   "source": [
    "print(not 6>7)"
   ]
  },
  {
   "cell_type": "code",
   "execution_count": 13,
   "id": "6ae69372",
   "metadata": {},
   "outputs": [
    {
     "name": "stdout",
     "output_type": "stream",
     "text": [
      "100000\n"
     ]
    }
   ],
   "source": [
    "a=10\n",
    "a**=5 # a=a+5\n",
    "print(a)"
   ]
  },
  {
   "cell_type": "code",
   "execution_count": 14,
   "id": "aa3fe27d",
   "metadata": {},
   "outputs": [],
   "source": [
    "# & - both bits 1 , ans is 1. else 0\n",
    "# | - one of the bit is 1 , ans is 1\n",
    "# ^ - different bits , ans is 1\n",
    "# ~ - 0 means 1 ."
   ]
  },
  {
   "cell_type": "code",
   "execution_count": 18,
   "id": "25e50c09",
   "metadata": {},
   "outputs": [
    {
     "name": "stdout",
     "output_type": "stream",
     "text": [
      "-8\n"
     ]
    }
   ],
   "source": [
    "print(~ 7)"
   ]
  },
  {
   "cell_type": "code",
   "execution_count": 21,
   "id": "ad58f6ba",
   "metadata": {},
   "outputs": [
    {
     "name": "stdout",
     "output_type": "stream",
     "text": [
      "True\n"
     ]
    }
   ],
   "source": [
    "items=['pen','pencil','eraser']\n",
    "print('mango' not in items)"
   ]
  },
  {
   "cell_type": "code",
   "execution_count": 24,
   "id": "cebba50c",
   "metadata": {},
   "outputs": [
    {
     "name": "stdout",
     "output_type": "stream",
     "text": [
      "True\n"
     ]
    }
   ],
   "source": [
    "a=10\n",
    "b=2\n",
    "print(a is not b)"
   ]
  },
  {
   "cell_type": "code",
   "execution_count": 26,
   "id": "be5bd18b",
   "metadata": {},
   "outputs": [
    {
     "name": "stdout",
     "output_type": "stream",
     "text": [
      "enter num1:20\n",
      "enter num2:70.4\n",
      "enter num3:4\n",
      "Average is 31.46666666666667\n"
     ]
    }
   ],
   "source": [
    "num1=eval(input('enter num1:'))\n",
    "num2=eval(input('enter num2:'))\n",
    "num3=eval(input('enter num3:'))\n",
    "sum_nums=num1+num2+num3\n",
    "print('Average is',sum_nums/3)"
   ]
  },
  {
   "cell_type": "code",
   "execution_count": 27,
   "id": "ba84a8a4",
   "metadata": {},
   "outputs": [
    {
     "name": "stdout",
     "output_type": "stream",
     "text": [
      "enter num1:20\n",
      "enter num2:5\n",
      "False\n"
     ]
    }
   ],
   "source": [
    "num1=eval(input('enter num1:'))\n",
    "num2=eval(input('enter num2:'))\n",
    "print(num1==num2)"
   ]
  },
  {
   "cell_type": "code",
   "execution_count": 29,
   "id": "97ce2e6c",
   "metadata": {},
   "outputs": [
    {
     "name": "stdout",
     "output_type": "stream",
     "text": [
      "8\n"
     ]
    }
   ],
   "source": [
    "a=10\n",
    "a-=2\n",
    "print(a)"
   ]
  },
  {
   "cell_type": "code",
   "execution_count": null,
   "id": "c016c754",
   "metadata": {},
   "outputs": [],
   "source": []
  }
 ],
 "metadata": {
  "kernelspec": {
   "display_name": "Python 3 (ipykernel)",
   "language": "python",
   "name": "python3"
  },
  "language_info": {
   "codemirror_mode": {
    "name": "ipython",
    "version": 3
   },
   "file_extension": ".py",
   "mimetype": "text/x-python",
   "name": "python",
   "nbconvert_exporter": "python",
   "pygments_lexer": "ipython3",
   "version": "3.9.13"
  }
 },
 "nbformat": 4,
 "nbformat_minor": 5
}
