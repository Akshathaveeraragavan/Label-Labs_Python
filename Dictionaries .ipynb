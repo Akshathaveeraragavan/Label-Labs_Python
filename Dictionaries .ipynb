{
 "cells": [
  {
   "cell_type": "code",
   "execution_count": 3,
   "id": "4e444f3f",
   "metadata": {},
   "outputs": [
    {
     "name": "stdout",
     "output_type": "stream",
     "text": [
      "mumbai\n"
     ]
    }
   ],
   "source": [
    "dict1={'name':'python','age':10,'city':'mumbai'}\n",
    "print(dict1['city'])"
   ]
  },
  {
   "cell_type": "code",
   "execution_count": 4,
   "id": "27ceb5a4",
   "metadata": {},
   "outputs": [],
   "source": [
    "# clear\n",
    "# copy\n",
    "# get\n",
    "# items"
   ]
  },
  {
   "cell_type": "code",
   "execution_count": 5,
   "id": "fe28b72b",
   "metadata": {},
   "outputs": [
    {
     "name": "stdout",
     "output_type": "stream",
     "text": [
      "{'name': 'python', 'age': 10, 'city': 'mumbai'}\n"
     ]
    }
   ],
   "source": [
    "dict1={'name':'python','age':10,'city':'mumbai'}\n",
    "dict2=dict1.copy()\n",
    "print(dict2)"
   ]
  },
  {
   "cell_type": "code",
   "execution_count": 6,
   "id": "dd08cf8b",
   "metadata": {},
   "outputs": [
    {
     "name": "stdout",
     "output_type": "stream",
     "text": [
      "10\n"
     ]
    }
   ],
   "source": [
    "dict1={'name':'python','age':10,'city':'mumbai'}\n",
    "print(dict1.get('age'))"
   ]
  },
  {
   "cell_type": "code",
   "execution_count": 7,
   "id": "895e1fea",
   "metadata": {},
   "outputs": [
    {
     "name": "stdout",
     "output_type": "stream",
     "text": [
      "dict_items([('name', 'python'), ('age', 10), ('city', 'mumbai')])\n"
     ]
    }
   ],
   "source": [
    "dict1={'name':'python','age':10,'city':'mumbai'}\n",
    "print(dict1.items())"
   ]
  },
  {
   "cell_type": "code",
   "execution_count": 8,
   "id": "bf156fa2",
   "metadata": {},
   "outputs": [],
   "source": [
    "# keys\n",
    "# pop\n",
    "# popitem\n",
    "# values"
   ]
  },
  {
   "cell_type": "code",
   "execution_count": 9,
   "id": "54655eac",
   "metadata": {},
   "outputs": [
    {
     "name": "stdout",
     "output_type": "stream",
     "text": [
      "dict_keys(['name', 'age', 'city'])\n"
     ]
    }
   ],
   "source": [
    "dict1={'name':'python','age':10,'city':'mumbai'}\n",
    "print(dict1.keys())"
   ]
  },
  {
   "cell_type": "code",
   "execution_count": 10,
   "id": "4e113d03",
   "metadata": {},
   "outputs": [
    {
     "name": "stdout",
     "output_type": "stream",
     "text": [
      "{'name': 'python', 'city': 'chennai'}\n"
     ]
    }
   ],
   "source": [
    "dict1={'name':'python','age':10,'city':'chennai'}\n",
    "dict1.pop('age')\n",
    "print(dict1)"
   ]
  },
  {
   "cell_type": "code",
   "execution_count": 11,
   "id": "a34eb9e2",
   "metadata": {},
   "outputs": [
    {
     "name": "stdout",
     "output_type": "stream",
     "text": [
      "('city', 'chennai')\n"
     ]
    }
   ],
   "source": [
    "dict1={'name':'python','age':10,'city':'chennai'}\n",
    "print(dict1.popitem())"
   ]
  },
  {
   "cell_type": "code",
   "execution_count": 12,
   "id": "346a521f",
   "metadata": {},
   "outputs": [
    {
     "name": "stdout",
     "output_type": "stream",
     "text": [
      "dict_values(['python', 10, 'chennai'])\n"
     ]
    }
   ],
   "source": [
    "dict1={'name':'python','age':10,'city':'chennai'}\n",
    "print(dict1.values())"
   ]
  },
  {
   "cell_type": "code",
   "execution_count": 13,
   "id": "7176bf3e",
   "metadata": {},
   "outputs": [
    {
     "name": "stdout",
     "output_type": "stream",
     "text": [
      "{}\n"
     ]
    }
   ],
   "source": [
    "dict1={'name':'python','age':10,'city':'chennai'}\n",
    "dict1.clear()\n",
    "print(dict1)"
   ]
  },
  {
   "cell_type": "code",
   "execution_count": null,
   "id": "d306bf47",
   "metadata": {},
   "outputs": [],
   "source": []
  }
 ],
 "metadata": {
  "kernelspec": {
   "display_name": "Python 3 (ipykernel)",
   "language": "python",
   "name": "python3"
  },
  "language_info": {
   "codemirror_mode": {
    "name": "ipython",
    "version": 3
   },
   "file_extension": ".py",
   "mimetype": "text/x-python",
   "name": "python",
   "nbconvert_exporter": "python",
   "pygments_lexer": "ipython3",
   "version": "3.9.13"
  }
 },
 "nbformat": 4,
 "nbformat_minor": 5
}
