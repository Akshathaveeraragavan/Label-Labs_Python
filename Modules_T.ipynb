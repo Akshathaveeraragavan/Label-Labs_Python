{
 "cells": [
  {
   "cell_type": "code",
   "execution_count": 2,
   "id": "99e58dc3",
   "metadata": {},
   "outputs": [
    {
     "name": "stdout",
     "output_type": "stream",
     "text": [
      "2\n"
     ]
    }
   ],
   "source": [
    "import random\n",
    "print(random.randint(1,10))"
   ]
  },
  {
   "cell_type": "code",
   "execution_count": 4,
   "id": "b88c16cb",
   "metadata": {},
   "outputs": [
    {
     "name": "stdout",
     "output_type": "stream",
     "text": [
      "0.8252416224996122\n"
     ]
    }
   ],
   "source": [
    "import random\n",
    "print(random.random())"
   ]
  },
  {
   "cell_type": "code",
   "execution_count": 7,
   "id": "fd55d981",
   "metadata": {},
   "outputs": [
    {
     "name": "stdout",
     "output_type": "stream",
     "text": [
      "2\n"
     ]
    }
   ],
   "source": [
    "import random\n",
    "print(random.randrange(0,10))"
   ]
  },
  {
   "cell_type": "code",
   "execution_count": 9,
   "id": "24e0b205",
   "metadata": {},
   "outputs": [
    {
     "name": "stdout",
     "output_type": "stream",
     "text": [
      "9.557965851790936\n"
     ]
    }
   ],
   "source": [
    "import random\n",
    "print(random.uniform(10.5,5.4))"
   ]
  },
  {
   "cell_type": "code",
   "execution_count": 12,
   "id": "09ac0f16",
   "metadata": {},
   "outputs": [
    {
     "name": "stdout",
     "output_type": "stream",
     "text": [
      "L\n"
     ]
    }
   ],
   "source": [
    "import random\n",
    "print(random.choice('HELLO'))"
   ]
  },
  {
   "cell_type": "code",
   "execution_count": 14,
   "id": "f4277fbd",
   "metadata": {},
   "outputs": [
    {
     "name": "stdout",
     "output_type": "stream",
     "text": [
      "[1, 3, 2]\n"
     ]
    }
   ],
   "source": [
    "import random\n",
    "nums=[1,2,3]\n",
    "random.shuffle(nums)\n",
    "print(nums)"
   ]
  },
  {
   "cell_type": "code",
   "execution_count": 15,
   "id": "e2425c2d",
   "metadata": {},
   "outputs": [],
   "source": [
    "# pi\n",
    "# tau\n",
    "# e\n",
    "# inf\n",
    "# nan"
   ]
  },
  {
   "cell_type": "code",
   "execution_count": 16,
   "id": "1084a44f",
   "metadata": {},
   "outputs": [],
   "source": [
    "# fabs(x)\n",
    "# exp(x)\n",
    "# floor(x)\n",
    "# ceil(x)\n",
    "# sqrt(x)\n",
    "# pow(x,y)\n",
    "# trunc(x)\n",
    "# round(x)"
   ]
  },
  {
   "cell_type": "code",
   "execution_count": 17,
   "id": "859f0a26",
   "metadata": {},
   "outputs": [
    {
     "name": "stdout",
     "output_type": "stream",
     "text": [
      "3.141592653589793\n"
     ]
    }
   ],
   "source": [
    "import math\n",
    "print(math.pi)"
   ]
  },
  {
   "cell_type": "code",
   "execution_count": 18,
   "id": "c2f55a6f",
   "metadata": {},
   "outputs": [
    {
     "name": "stdout",
     "output_type": "stream",
     "text": [
      "2.718281828459045\n"
     ]
    }
   ],
   "source": [
    "import math\n",
    "print(math.e)"
   ]
  },
  {
   "cell_type": "code",
   "execution_count": 19,
   "id": "b028b9f6",
   "metadata": {},
   "outputs": [
    {
     "name": "stdout",
     "output_type": "stream",
     "text": [
      "6.283185307179586\n"
     ]
    }
   ],
   "source": [
    "import math\n",
    "print(math.tau)"
   ]
  },
  {
   "cell_type": "code",
   "execution_count": 20,
   "id": "96901bbb",
   "metadata": {},
   "outputs": [
    {
     "name": "stdout",
     "output_type": "stream",
     "text": [
      "inf\n"
     ]
    }
   ],
   "source": [
    "import math\n",
    "print(math.inf)"
   ]
  },
  {
   "cell_type": "code",
   "execution_count": 21,
   "id": "d18d65bd",
   "metadata": {},
   "outputs": [
    {
     "name": "stdout",
     "output_type": "stream",
     "text": [
      "nan\n"
     ]
    }
   ],
   "source": [
    "import math\n",
    "print(math.nan)"
   ]
  },
  {
   "cell_type": "code",
   "execution_count": 22,
   "id": "1fb1c026",
   "metadata": {},
   "outputs": [
    {
     "name": "stdout",
     "output_type": "stream",
     "text": [
      "8.0\n"
     ]
    }
   ],
   "source": [
    "import math\n",
    "print(math.fabs(-8))"
   ]
  },
  {
   "cell_type": "code",
   "execution_count": 23,
   "id": "1013a71a",
   "metadata": {},
   "outputs": [
    {
     "name": "stdout",
     "output_type": "stream",
     "text": [
      "7.38905609893065\n"
     ]
    }
   ],
   "source": [
    "import math\n",
    "print(math.exp(2))"
   ]
  },
  {
   "cell_type": "code",
   "execution_count": 24,
   "id": "1a612736",
   "metadata": {},
   "outputs": [
    {
     "name": "stdout",
     "output_type": "stream",
     "text": [
      "6\n"
     ]
    }
   ],
   "source": [
    "import math\n",
    "print(math.floor(6.7))"
   ]
  },
  {
   "cell_type": "code",
   "execution_count": 25,
   "id": "05d34d89",
   "metadata": {},
   "outputs": [
    {
     "name": "stdout",
     "output_type": "stream",
     "text": [
      "7\n"
     ]
    }
   ],
   "source": [
    "import math\n",
    "print(math.ceil(6.7))"
   ]
  },
  {
   "cell_type": "code",
   "execution_count": 26,
   "id": "5cae54ba",
   "metadata": {},
   "outputs": [
    {
     "name": "stdout",
     "output_type": "stream",
     "text": [
      "7\n"
     ]
    }
   ],
   "source": [
    "import math\n",
    "print(math.trunc(7.8))"
   ]
  },
  {
   "cell_type": "code",
   "execution_count": 28,
   "id": "1cd33625",
   "metadata": {},
   "outputs": [
    {
     "name": "stdout",
     "output_type": "stream",
     "text": [
      "8\n"
     ]
    }
   ],
   "source": [
    "import math\n",
    "print(round(7.8))"
   ]
  },
  {
   "cell_type": "code",
   "execution_count": 29,
   "id": "e5a4f5a0",
   "metadata": {},
   "outputs": [
    {
     "name": "stdout",
     "output_type": "stream",
     "text": [
      "0.8939966636005579\n"
     ]
    }
   ],
   "source": [
    "import math\n",
    "print(math.sin(90))"
   ]
  },
  {
   "cell_type": "code",
   "execution_count": 30,
   "id": "a278717a",
   "metadata": {},
   "outputs": [
    {
     "name": "stdout",
     "output_type": "stream",
     "text": [
      "1833.4649444186343\n"
     ]
    }
   ],
   "source": [
    "import math\n",
    "print(math.degrees(32))"
   ]
  },
  {
   "cell_type": "code",
   "execution_count": 31,
   "id": "c2f52ba5",
   "metadata": {},
   "outputs": [
    {
     "name": "stdout",
     "output_type": "stream",
     "text": [
      "0.17453292519943295\n"
     ]
    }
   ],
   "source": [
    "import math\n",
    "print(math.radians(10))"
   ]
  },
  {
   "cell_type": "code",
   "execution_count": 32,
   "id": "57764da2",
   "metadata": {},
   "outputs": [
    {
     "name": "stdout",
     "output_type": "stream",
     "text": [
      "5040\n"
     ]
    }
   ],
   "source": [
    "import math\n",
    "print(math.factorial(7))"
   ]
  },
  {
   "cell_type": "code",
   "execution_count": 33,
   "id": "aaf74594",
   "metadata": {},
   "outputs": [
    {
     "name": "stdout",
     "output_type": "stream",
     "text": [
      "210\n"
     ]
    }
   ],
   "source": [
    "import math\n",
    "print(math.comb(10,4))"
   ]
  },
  {
   "cell_type": "code",
   "execution_count": 34,
   "id": "b438fb11",
   "metadata": {},
   "outputs": [
    {
     "name": "stdout",
     "output_type": "stream",
     "text": [
      "1.9459101490553132\n"
     ]
    }
   ],
   "source": [
    "import math\n",
    "print(math.log(7))"
   ]
  },
  {
   "cell_type": "code",
   "execution_count": 35,
   "id": "7739f478",
   "metadata": {},
   "outputs": [
    {
     "name": "stdout",
     "output_type": "stream",
     "text": [
      "2.2618595071429146\n"
     ]
    }
   ],
   "source": [
    "import math\n",
    "print(math.log(12,3))"
   ]
  },
  {
   "cell_type": "code",
   "execution_count": 36,
   "id": "d337b31a",
   "metadata": {},
   "outputs": [
    {
     "name": "stdout",
     "output_type": "stream",
     "text": [
      "enter radius:43\n",
      "270.1769682087222 5808.804816487527\n"
     ]
    }
   ],
   "source": [
    "import math\n",
    "radius=eval(input('enter radius:'))\n",
    "circumference=2*math.pi*radius\n",
    "area=math.pi*radius*radius\n",
    "print(circumference,area)"
   ]
  },
  {
   "cell_type": "code",
   "execution_count": 37,
   "id": "d196f1e2",
   "metadata": {},
   "outputs": [
    {
     "name": "stdout",
     "output_type": "stream",
     "text": [
      "current date and time is: 2024-11-03 05:51:43.196374\n"
     ]
    }
   ],
   "source": [
    "from datetime import datetime\n",
    "print('current date and time is:',datetime.now())"
   ]
  },
  {
   "cell_type": "code",
   "execution_count": 38,
   "id": "cf9a8fdc",
   "metadata": {},
   "outputs": [
    {
     "name": "stdout",
     "output_type": "stream",
     "text": [
      "2024-11-03 05:53:56.021205\n",
      "2024-11-13 05:53:56.021205\n"
     ]
    }
   ],
   "source": [
    "from datetime import datetime,timedelta\n",
    "current_date=datetime.now()\n",
    "new_date=current_date + timedelta(days=10)\n",
    "print(current_date)\n",
    "print(new_date)"
   ]
  },
  {
   "cell_type": "code",
   "execution_count": 41,
   "id": "af6159fb",
   "metadata": {},
   "outputs": [
    {
     "name": "stdout",
     "output_type": "stream",
     "text": [
      "3\n"
     ]
    }
   ],
   "source": [
    "from datetime import datetime\n",
    "current_date=datetime.now()\n",
    "day=current_date.day\n",
    "print(day)"
   ]
  },
  {
   "cell_type": "code",
   "execution_count": null,
   "id": "9a829622",
   "metadata": {},
   "outputs": [],
   "source": []
  }
 ],
 "metadata": {
  "kernelspec": {
   "display_name": "Python 3 (ipykernel)",
   "language": "python",
   "name": "python3"
  },
  "language_info": {
   "codemirror_mode": {
    "name": "ipython",
    "version": 3
   },
   "file_extension": ".py",
   "mimetype": "text/x-python",
   "name": "python",
   "nbconvert_exporter": "python",
   "pygments_lexer": "ipython3",
   "version": "3.9.13"
  }
 },
 "nbformat": 4,
 "nbformat_minor": 5
}
