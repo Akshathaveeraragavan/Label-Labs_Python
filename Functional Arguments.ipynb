{
 "cells": [
  {
   "cell_type": "code",
   "execution_count": 2,
   "id": "850b4a65",
   "metadata": {},
   "outputs": [
    {
     "name": "stdout",
     "output_type": "stream",
     "text": [
      "Hello Alia\n",
      "Hi Ram\n"
     ]
    }
   ],
   "source": [
    "def greet(name,greeting='Hello'):\n",
    "    print(greeting,name)\n",
    "\n",
    "greet('Alia')\n",
    "greet('Ram','Hi')"
   ]
  },
  {
   "cell_type": "code",
   "execution_count": 4,
   "id": "9013c628",
   "metadata": {},
   "outputs": [
    {
     "name": "stdout",
     "output_type": "stream",
     "text": [
      "Sum is: -4\n"
     ]
    }
   ],
   "source": [
    "def add(a,b):\n",
    "    print('Sum is:',a-b)\n",
    "\n",
    "add(6,10)"
   ]
  },
  {
   "cell_type": "code",
   "execution_count": 1,
   "id": "6f44fa21",
   "metadata": {},
   "outputs": [
    {
     "name": "stdout",
     "output_type": "stream",
     "text": [
      "Python\n",
      "10\n"
     ]
    }
   ],
   "source": [
    "def introduce(name,age):\n",
    "    print(name)\n",
    "    print(age)\n",
    "\n",
    "introduce(name='Python',age=10)"
   ]
  },
  {
   "cell_type": "code",
   "execution_count": 3,
   "id": "63bc1975",
   "metadata": {},
   "outputs": [
    {
     "name": "stdout",
     "output_type": "stream",
     "text": [
      "6\n"
     ]
    }
   ],
   "source": [
    "def sum_nums(*args):\n",
    "    total=0\n",
    "    for i in args:\n",
    "        total=total+i\n",
    "    return total\n",
    "\n",
    "result=sum_nums(1,2,3)\n",
    "print(result)"
   ]
  },
  {
   "cell_type": "code",
   "execution_count": 4,
   "id": "36c2eefd",
   "metadata": {},
   "outputs": [
    {
     "name": "stdout",
     "output_type": "stream",
     "text": [
      "name python\n",
      "age 10\n",
      "city chennai\n"
     ]
    }
   ],
   "source": [
    "def display(**kwargs):\n",
    "    for key,value in kwargs.items():\n",
    "        print(key , value)\n",
    "    \n",
    "display(name='python',age=10,city='chennai')"
   ]
  },
  {
   "cell_type": "code",
   "execution_count": null,
   "id": "29a84254",
   "metadata": {},
   "outputs": [],
   "source": []
  }
 ],
 "metadata": {
  "kernelspec": {
   "display_name": "Python 3 (ipykernel)",
   "language": "python",
   "name": "python3"
  },
  "language_info": {
   "codemirror_mode": {
    "name": "ipython",
    "version": 3
   },
   "file_extension": ".py",
   "mimetype": "text/x-python",
   "name": "python",
   "nbconvert_exporter": "python",
   "pygments_lexer": "ipython3",
   "version": "3.9.13"
  }
 },
 "nbformat": 4,
 "nbformat_minor": 5
}
