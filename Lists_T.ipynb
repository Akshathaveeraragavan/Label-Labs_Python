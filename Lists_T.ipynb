{
 "cells": [
  {
   "cell_type": "code",
   "execution_count": 2,
   "id": "546d24a8",
   "metadata": {},
   "outputs": [
    {
     "name": "stdout",
     "output_type": "stream",
     "text": [
      "milk\n"
     ]
    }
   ],
   "source": [
    "list1=['bread','milk','eggs','apple']\n",
    "print(list1[1])"
   ]
  },
  {
   "cell_type": "code",
   "execution_count": 5,
   "id": "13ea4cda",
   "metadata": {},
   "outputs": [
    {
     "name": "stdout",
     "output_type": "stream",
     "text": [
      "False\n"
     ]
    }
   ],
   "source": [
    "list1=['bread','milk','eggs','apple']\n",
    "print('milk' not in list1)"
   ]
  },
  {
   "cell_type": "code",
   "execution_count": 6,
   "id": "f74e8a3d",
   "metadata": {},
   "outputs": [],
   "source": [
    "# append\n",
    "# clear\n",
    "# copy\n",
    "# index"
   ]
  },
  {
   "cell_type": "code",
   "execution_count": 7,
   "id": "5532316e",
   "metadata": {},
   "outputs": [
    {
     "name": "stdout",
     "output_type": "stream",
     "text": [
      "['bread', 'milk', 'eggs', 'apple', 'banana']\n"
     ]
    }
   ],
   "source": [
    "list1=['bread','milk','eggs','apple']\n",
    "list1.append('banana')\n",
    "print(list1)"
   ]
  },
  {
   "cell_type": "code",
   "execution_count": 8,
   "id": "ec80266b",
   "metadata": {},
   "outputs": [
    {
     "name": "stdout",
     "output_type": "stream",
     "text": [
      "['bread', 'milk', 'eggs', 'apple']\n"
     ]
    }
   ],
   "source": [
    "list1=['bread','milk','eggs','apple']\n",
    "list2=list1.copy()\n",
    "print(list2)"
   ]
  },
  {
   "cell_type": "code",
   "execution_count": 9,
   "id": "d48fc263",
   "metadata": {},
   "outputs": [
    {
     "name": "stdout",
     "output_type": "stream",
     "text": [
      "2\n"
     ]
    }
   ],
   "source": [
    "list1=['bread','milk','eggs','apple']\n",
    "print(list1.index('eggs'))"
   ]
  },
  {
   "cell_type": "code",
   "execution_count": 10,
   "id": "da14181d",
   "metadata": {},
   "outputs": [],
   "source": [
    "# count()\n",
    "# insert()\n",
    "# pop()\n",
    "# remove()\n",
    "# reverse()\n",
    "# sort()"
   ]
  },
  {
   "cell_type": "code",
   "execution_count": 12,
   "id": "a3f5d529",
   "metadata": {},
   "outputs": [
    {
     "name": "stdout",
     "output_type": "stream",
     "text": [
      "2\n"
     ]
    }
   ],
   "source": [
    "list1=['bread','milk','milk','eggs','apple']\n",
    "print(list1.count('milk'))\n"
   ]
  },
  {
   "cell_type": "code",
   "execution_count": 13,
   "id": "2f0b5bd6",
   "metadata": {},
   "outputs": [
    {
     "name": "stdout",
     "output_type": "stream",
     "text": [
      "['bread', 'milk', 'banana', 'eggs', 'apple']\n"
     ]
    }
   ],
   "source": [
    "list1=['bread','milk','eggs','apple']\n",
    "list1.insert(2,'banana')\n",
    "print(list1)"
   ]
  },
  {
   "cell_type": "code",
   "execution_count": 14,
   "id": "f44cbb4d",
   "metadata": {},
   "outputs": [
    {
     "name": "stdout",
     "output_type": "stream",
     "text": [
      "['bread', 'eggs', 'apple']\n"
     ]
    }
   ],
   "source": [
    "list1=['bread','milk','eggs','apple']\n",
    "list1.pop(1)\n",
    "print(list1)"
   ]
  },
  {
   "cell_type": "code",
   "execution_count": 15,
   "id": "1dcf578f",
   "metadata": {},
   "outputs": [
    {
     "name": "stdout",
     "output_type": "stream",
     "text": [
      "['bread', 'eggs', 'apple']\n"
     ]
    }
   ],
   "source": [
    "list1=['bread','milk','eggs','apple']\n",
    "list1.remove('milk')\n",
    "print(list1)"
   ]
  },
  {
   "cell_type": "code",
   "execution_count": 16,
   "id": "59279e77",
   "metadata": {},
   "outputs": [
    {
     "name": "stdout",
     "output_type": "stream",
     "text": [
      "['apple', 'eggs', 'milk', 'bread']\n"
     ]
    }
   ],
   "source": [
    "list1=['bread','milk','eggs','apple']\n",
    "list1.reverse()\n",
    "print(list1)\n"
   ]
  },
  {
   "cell_type": "code",
   "execution_count": 17,
   "id": "1bd977e6",
   "metadata": {},
   "outputs": [
    {
     "name": "stdout",
     "output_type": "stream",
     "text": [
      "[67, 89, 100]\n"
     ]
    }
   ],
   "source": [
    "list1=[89,67,100]\n",
    "list1.sort()\n",
    "print(list1)"
   ]
  },
  {
   "cell_type": "code",
   "execution_count": 18,
   "id": "7a2b4a53",
   "metadata": {},
   "outputs": [
    {
     "name": "stdout",
     "output_type": "stream",
     "text": [
      "the total playlist duration is: 15.600000000000001\n"
     ]
    }
   ],
   "source": [
    "playlist=[3.4,5.0,7.2]\n",
    "print('the total playlist duration is:',sum(playlist))"
   ]
  },
  {
   "cell_type": "code",
   "execution_count": null,
   "id": "581560cb",
   "metadata": {},
   "outputs": [],
   "source": [
    "\n",
    "list1=[1,2,3]\n",
    "list2=[4,5,6]\n"
   ]
  }
 ],
 "metadata": {
  "kernelspec": {
   "display_name": "Python 3 (ipykernel)",
   "language": "python",
   "name": "python3"
  },
  "language_info": {
   "codemirror_mode": {
    "name": "ipython",
    "version": 3
   },
   "file_extension": ".py",
   "mimetype": "text/x-python",
   "name": "python",
   "nbconvert_exporter": "python",
   "pygments_lexer": "ipython3",
   "version": "3.9.13"
  }
 },
 "nbformat": 4,
 "nbformat_minor": 5
}
