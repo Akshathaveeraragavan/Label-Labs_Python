{
 "cells": [
  {
   "cell_type": "code",
   "execution_count": 1,
   "id": "bc4ea9f8",
   "metadata": {},
   "outputs": [
    {
     "name": "stdout",
     "output_type": "stream",
     "text": [
      "you cannot make a purchase\n"
     ]
    }
   ],
   "source": [
    "bank_balance=1000\n",
    "if bank_balance>=2000:\n",
    "    print('You can make a puchase') # indentation\n",
    "else:\n",
    "    print('you cannot make a purchase')"
   ]
  },
  {
   "cell_type": "code",
   "execution_count": 3,
   "id": "8e6a18c2",
   "metadata": {},
   "outputs": [
    {
     "name": "stdout",
     "output_type": "stream",
     "text": [
      "Enter temperature:25\n",
      "moderate clothing\n"
     ]
    }
   ],
   "source": [
    "temperature=eval(input('Enter temperature:'))\n",
    "if temperature>30:\n",
    "    print('light clothing')\n",
    "elif temperature>20 and temperature<30:\n",
    "    print('moderate clothing')\n",
    "elif temperature>10 and temperature<20:\n",
    "    print('warm clothing')\n",
    "else:\n",
    "    print('heavy winter clothing')"
   ]
  },
  {
   "cell_type": "code",
   "execution_count": 5,
   "id": "c8ae8c84",
   "metadata": {},
   "outputs": [
    {
     "name": "stdout",
     "output_type": "stream",
     "text": [
      "Do you want to go for a vacation?no\n",
      "stay at home \n"
     ]
    }
   ],
   "source": [
    "vacation_choice=input('Do you want to go for a vacation?')\n",
    "if vacation_choice=='yes':\n",
    "    budget=eval(input('Enter your budget?'))\n",
    "    if budget>=1000:\n",
    "        print('Go to an international destination')\n",
    "    else:\n",
    "        print('Go to a nearby city ')\n",
    "else:\n",
    "    print('stay at home ')"
   ]
  },
  {
   "cell_type": "code",
   "execution_count": null,
   "id": "fea2053c",
   "metadata": {},
   "outputs": [],
   "source": []
  }
 ],
 "metadata": {
  "kernelspec": {
   "display_name": "Python 3 (ipykernel)",
   "language": "python",
   "name": "python3"
  },
  "language_info": {
   "codemirror_mode": {
    "name": "ipython",
    "version": 3
   },
   "file_extension": ".py",
   "mimetype": "text/x-python",
   "name": "python",
   "nbconvert_exporter": "python",
   "pygments_lexer": "ipython3",
   "version": "3.9.13"
  }
 },
 "nbformat": 4,
 "nbformat_minor": 5
}
