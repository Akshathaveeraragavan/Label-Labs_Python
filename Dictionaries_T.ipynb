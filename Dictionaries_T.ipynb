{
 "cells": [
  {
   "cell_type": "code",
   "execution_count": 1,
   "id": "9fea75d3",
   "metadata": {},
   "outputs": [
    {
     "name": "stdout",
     "output_type": "stream",
     "text": [
      "{'name': 'python', 'age': 10, 'city': 'chennai'}\n"
     ]
    }
   ],
   "source": [
    "dict1={'name':'python','age':10,'city':'chennai'}\n",
    "print(dict1)"
   ]
  },
  {
   "cell_type": "code",
   "execution_count": 3,
   "id": "da6538c4",
   "metadata": {},
   "outputs": [
    {
     "name": "stdout",
     "output_type": "stream",
     "text": [
      "10\n"
     ]
    }
   ],
   "source": [
    "dict1={'name':'python','age':10,'city':'chennai'}\n",
    "print(dict1['age'])"
   ]
  },
  {
   "cell_type": "code",
   "execution_count": 4,
   "id": "e3923542",
   "metadata": {},
   "outputs": [],
   "source": [
    "# clear\n",
    "# copy\n",
    "# get\n",
    "# items"
   ]
  },
  {
   "cell_type": "code",
   "execution_count": 5,
   "id": "b7b1438a",
   "metadata": {},
   "outputs": [
    {
     "name": "stdout",
     "output_type": "stream",
     "text": [
      "{'name': 'python', 'age': 10, 'city': 'chennai'}\n"
     ]
    }
   ],
   "source": [
    "dict1={'name':'python','age':10,'city':'chennai'}\n",
    "dict2=dict1.copy()\n",
    "print(dict2)"
   ]
  },
  {
   "cell_type": "code",
   "execution_count": 6,
   "id": "9c13387f",
   "metadata": {},
   "outputs": [
    {
     "name": "stdout",
     "output_type": "stream",
     "text": [
      "chennai\n"
     ]
    }
   ],
   "source": [
    "dict1={'name':'python','age':10,'city':'chennai'}\n",
    "print(dict1.get('city'))"
   ]
  },
  {
   "cell_type": "code",
   "execution_count": 7,
   "id": "50ad496f",
   "metadata": {},
   "outputs": [
    {
     "name": "stdout",
     "output_type": "stream",
     "text": [
      "dict_items([('name', 'python'), ('age', 10), ('city', 'chennai')])\n"
     ]
    }
   ],
   "source": [
    "dict1={'name':'python','age':10,'city':'chennai'}\n",
    "print(dict1.items())"
   ]
  },
  {
   "cell_type": "code",
   "execution_count": 12,
   "id": "c86b2f5b",
   "metadata": {},
   "outputs": [],
   "source": [
    "# keys\n",
    "# pop\n",
    "# popitem\n",
    "# values"
   ]
  },
  {
   "cell_type": "code",
   "execution_count": 9,
   "id": "60af48e1",
   "metadata": {},
   "outputs": [
    {
     "name": "stdout",
     "output_type": "stream",
     "text": [
      "dict_keys(['name', 'age', 'city'])\n"
     ]
    }
   ],
   "source": [
    "dict1={'name':'python','age':10,'city':'chennai'}\n",
    "print(dict1.keys())"
   ]
  },
  {
   "cell_type": "code",
   "execution_count": 10,
   "id": "a95c52cf",
   "metadata": {},
   "outputs": [
    {
     "name": "stdout",
     "output_type": "stream",
     "text": [
      "{'name': 'python', 'city': 'chennai'}\n"
     ]
    }
   ],
   "source": [
    "dict1={'name':'python','age':10,'city':'chennai'}\n",
    "dict1.pop('age')\n",
    "print(dict1)"
   ]
  },
  {
   "cell_type": "code",
   "execution_count": 11,
   "id": "b91ad494",
   "metadata": {},
   "outputs": [
    {
     "name": "stdout",
     "output_type": "stream",
     "text": [
      "('city', 'chennai')\n"
     ]
    }
   ],
   "source": [
    "dict1={'name':'python','age':10,'city':'chennai'}\n",
    "print(dict1.popitem())"
   ]
  },
  {
   "cell_type": "code",
   "execution_count": 13,
   "id": "f9728159",
   "metadata": {},
   "outputs": [
    {
     "name": "stdout",
     "output_type": "stream",
     "text": [
      "dict_values(['python', 10, 'chennai'])\n"
     ]
    }
   ],
   "source": [
    "dict1={'name':'python','age':10,'city':'chennai'}\n",
    "print(dict1.values())"
   ]
  },
  {
   "cell_type": "code",
   "execution_count": 14,
   "id": "99d41ae8",
   "metadata": {},
   "outputs": [
    {
     "name": "stdout",
     "output_type": "stream",
     "text": [
      "{}\n"
     ]
    }
   ],
   "source": [
    "dict1={'name':'python','age':10,'city':'chennai'}\n",
    "dict1.clear()\n",
    "print(dict1)"
   ]
  },
  {
   "cell_type": "code",
   "execution_count": null,
   "id": "b02111ee",
   "metadata": {},
   "outputs": [],
   "source": []
  }
 ],
 "metadata": {
  "kernelspec": {
   "display_name": "Python 3 (ipykernel)",
   "language": "python",
   "name": "python3"
  },
  "language_info": {
   "codemirror_mode": {
    "name": "ipython",
    "version": 3
   },
   "file_extension": ".py",
   "mimetype": "text/x-python",
   "name": "python",
   "nbconvert_exporter": "python",
   "pygments_lexer": "ipython3",
   "version": "3.9.13"
  }
 },
 "nbformat": 4,
 "nbformat_minor": 5
}
