{
 "cells": [
  {
   "cell_type": "code",
   "execution_count": 2,
   "id": "e7d1b483",
   "metadata": {},
   "outputs": [
    {
     "name": "stdout",
     "output_type": "stream",
     "text": [
      "hello Alia\n",
      "Hi Alia\n"
     ]
    }
   ],
   "source": [
    "def greet(name , greeting='hello'):\n",
    "    print(greeting,name)\n",
    "\n",
    "greet('Alia')\n",
    "greet('Alia','Hi')"
   ]
  },
  {
   "cell_type": "code",
   "execution_count": 4,
   "id": "666dd1a3",
   "metadata": {},
   "outputs": [
    {
     "name": "stdout",
     "output_type": "stream",
     "text": [
      "Difference is: -4\n"
     ]
    }
   ],
   "source": [
    "def sub(a,b):\n",
    "    print('Difference is:',a-b)\n",
    "\n",
    "sub(6,10)"
   ]
  },
  {
   "cell_type": "code",
   "execution_count": 1,
   "id": "fcb546ca",
   "metadata": {},
   "outputs": [
    {
     "name": "stdout",
     "output_type": "stream",
     "text": [
      "Python\n",
      "10\n"
     ]
    }
   ],
   "source": [
    "def introduce(name,age):\n",
    "    print(name)\n",
    "    print(age)\n",
    "\n",
    "introduce(name='Python',age=10)"
   ]
  },
  {
   "cell_type": "code",
   "execution_count": 2,
   "id": "f97922cf",
   "metadata": {},
   "outputs": [
    {
     "name": "stdout",
     "output_type": "stream",
     "text": [
      "6\n"
     ]
    }
   ],
   "source": [
    "def sum_nums(*args):\n",
    "    total=0\n",
    "    for i in args:\n",
    "        total=total+i\n",
    "    return total\n",
    "\n",
    "result=sum_nums(1,2,3)\n",
    "print(result)"
   ]
  },
  {
   "cell_type": "code",
   "execution_count": null,
   "id": "f06cf9e7",
   "metadata": {},
   "outputs": [],
   "source": []
  }
 ],
 "metadata": {
  "kernelspec": {
   "display_name": "Python 3 (ipykernel)",
   "language": "python",
   "name": "python3"
  },
  "language_info": {
   "codemirror_mode": {
    "name": "ipython",
    "version": 3
   },
   "file_extension": ".py",
   "mimetype": "text/x-python",
   "name": "python",
   "nbconvert_exporter": "python",
   "pygments_lexer": "ipython3",
   "version": "3.9.13"
  }
 },
 "nbformat": 4,
 "nbformat_minor": 5
}
