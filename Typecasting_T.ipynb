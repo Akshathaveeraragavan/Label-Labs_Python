{
 "cells": [
  {
   "cell_type": "code",
   "execution_count": 3,
   "id": "e6c0b85d",
   "metadata": {},
   "outputs": [
    {
     "name": "stdout",
     "output_type": "stream",
     "text": [
      "john30\n"
     ]
    }
   ],
   "source": [
    "name='john'\n",
    "age=str(30)\n",
    "print(name+age)"
   ]
  },
  {
   "cell_type": "code",
   "execution_count": 2,
   "id": "c9851218",
   "metadata": {},
   "outputs": [
    {
     "name": "stdout",
     "output_type": "stream",
     "text": [
      "14.5\n"
     ]
    }
   ],
   "source": [
    "a=9\n",
    "b=5.5\n",
    "print(a+b)"
   ]
  },
  {
   "cell_type": "code",
   "execution_count": null,
   "id": "34442ef4",
   "metadata": {},
   "outputs": [],
   "source": [
    "price=89.3\n",
    "print('The converted price is:',)"
   ]
  }
 ],
 "metadata": {
  "kernelspec": {
   "display_name": "Python 3 (ipykernel)",
   "language": "python",
   "name": "python3"
  },
  "language_info": {
   "codemirror_mode": {
    "name": "ipython",
    "version": 3
   },
   "file_extension": ".py",
   "mimetype": "text/x-python",
   "name": "python",
   "nbconvert_exporter": "python",
   "pygments_lexer": "ipython3",
   "version": "3.9.13"
  }
 },
 "nbformat": 4,
 "nbformat_minor": 5
}
