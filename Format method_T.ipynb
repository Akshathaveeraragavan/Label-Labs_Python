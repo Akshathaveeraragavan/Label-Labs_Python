{
 "cells": [
  {
   "cell_type": "code",
   "execution_count": 1,
   "id": "a4195e4f",
   "metadata": {},
   "outputs": [
    {
     "name": "stdout",
     "output_type": "stream",
     "text": [
      "My name is label labs and Im 10 years old\n"
     ]
    }
   ],
   "source": [
    "name='label labs'\n",
    "age=10\n",
    "print('My name is {} and Im {} years old'.format(name,age))"
   ]
  },
  {
   "cell_type": "code",
   "execution_count": 2,
   "id": "c310c6a6",
   "metadata": {},
   "outputs": [
    {
     "name": "stdout",
     "output_type": "stream",
     "text": [
      "My name is label labs and Im 10 years old\n"
     ]
    }
   ],
   "source": [
    "\n",
    "print('My name is {name} and Im {age} years old'.format(name='label labs',age=10))"
   ]
  },
  {
   "cell_type": "code",
   "execution_count": null,
   "id": "d946098c",
   "metadata": {},
   "outputs": [],
   "source": [
    "name='label labs' #0\n",
    "age=10 # 1\n",
    "print('Im {} years old and my nam'.format(name,age))"
   ]
  }
 ],
 "metadata": {
  "kernelspec": {
   "display_name": "Python 3 (ipykernel)",
   "language": "python",
   "name": "python3"
  },
  "language_info": {
   "codemirror_mode": {
    "name": "ipython",
    "version": 3
   },
   "file_extension": ".py",
   "mimetype": "text/x-python",
   "name": "python",
   "nbconvert_exporter": "python",
   "pygments_lexer": "ipython3",
   "version": "3.9.13"
  }
 },
 "nbformat": 4,
 "nbformat_minor": 5
}
