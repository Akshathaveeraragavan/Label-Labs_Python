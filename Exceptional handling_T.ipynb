{
 "cells": [
  {
   "cell_type": "code",
   "execution_count": 3,
   "id": "d57c28c2",
   "metadata": {},
   "outputs": [
    {
     "name": "stdout",
     "output_type": "stream",
     "text": [
      "Enter num:text\n",
      "Value error occured !\n"
     ]
    }
   ],
   "source": [
    "try:\n",
    "    num=int(input('Enter num:'))\n",
    "    result=10/num\n",
    "    print(result)\n",
    "except ZeroDivisionError:\n",
    "    print('Zero division error occured !')\n",
    "except ValueError:\n",
    "    print('Value error occured !')"
   ]
  },
  {
   "cell_type": "code",
   "execution_count": 5,
   "id": "8da5e304",
   "metadata": {},
   "outputs": [
    {
     "name": "stdout",
     "output_type": "stream",
     "text": [
      "Enter num:0\n",
      "Zero division error occured !\n",
      "This is always executed !\n"
     ]
    }
   ],
   "source": [
    "try:\n",
    "    num=int(input('Enter num:'))\n",
    "    result=10/num\n",
    "    print(result)\n",
    "except ZeroDivisionError:\n",
    "    print('Zero division error occured !')\n",
    "except ValueError:\n",
    "    print('Value error occured !')\n",
    "finally:\n",
    "    print('This is always executed !')"
   ]
  },
  {
   "cell_type": "code",
   "execution_count": 7,
   "id": "fde3a4f3",
   "metadata": {},
   "outputs": [
    {
     "name": "stdout",
     "output_type": "stream",
     "text": [
      "Enter num:0\n",
      "Zero division error occured !\n"
     ]
    }
   ],
   "source": [
    "try:\n",
    "    num=int(input('Enter num:'))\n",
    "    result=10/num\n",
    "    print(result)\n",
    "except ZeroDivisionError:\n",
    "    print('Zero division error occured !')\n",
    "except ValueError:\n",
    "    print('Value error occured !')\n",
    "else:\n",
    "    print('No exceptions occured !')"
   ]
  },
  {
   "cell_type": "code",
   "execution_count": null,
   "id": "fc57da42",
   "metadata": {},
   "outputs": [],
   "source": [
    "dict1={'name':'python','age':10,'city':'new york'}\n",
    "key=input('Enter key:')\n",
    "try:\n",
    "    value=dict1[key]\n",
    "    print(value)\n",
    "except KeyError:\n",
    "    print('Key not found !')\n",
    "except TypeError:\n",
    "    print('Wrong data type')"
   ]
  },
  {
   "cell_type": "code",
   "execution_count": null,
   "id": "1a0d6ee7",
   "metadata": {},
   "outputs": [],
   "source": []
  }
 ],
 "metadata": {
  "kernelspec": {
   "display_name": "Python 3 (ipykernel)",
   "language": "python",
   "name": "python3"
  },
  "language_info": {
   "codemirror_mode": {
    "name": "ipython",
    "version": 3
   },
   "file_extension": ".py",
   "mimetype": "text/x-python",
   "name": "python",
   "nbconvert_exporter": "python",
   "pygments_lexer": "ipython3",
   "version": "3.9.13"
  }
 },
 "nbformat": 4,
 "nbformat_minor": 5
}
