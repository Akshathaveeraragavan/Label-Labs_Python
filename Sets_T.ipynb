{
 "cells": [
  {
   "cell_type": "code",
   "execution_count": 2,
   "id": "a61c4b15",
   "metadata": {},
   "outputs": [
    {
     "name": "stdout",
     "output_type": "stream",
     "text": [
      "{1, 2, 3}\n"
     ]
    }
   ],
   "source": [
    "set1={1,2,3}\n",
    "print(set1)"
   ]
  },
  {
   "cell_type": "code",
   "execution_count": 1,
   "id": "7fbbc1b2",
   "metadata": {},
   "outputs": [],
   "source": [
    "# add()\n",
    "# clear()\n",
    "# copy()\n",
    "# difference()\n",
    "# intersection()\n",
    "# union()\n",
    "# pop()\n",
    "# remove()"
   ]
  },
  {
   "cell_type": "code",
   "execution_count": 3,
   "id": "4820c11e",
   "metadata": {},
   "outputs": [
    {
     "name": "stdout",
     "output_type": "stream",
     "text": [
      "{1, 2, 3, 4}\n"
     ]
    }
   ],
   "source": [
    "set1={1,2,3}\n",
    "set1.add(4)\n",
    "print(set1)"
   ]
  },
  {
   "cell_type": "code",
   "execution_count": 4,
   "id": "cc32d2d1",
   "metadata": {},
   "outputs": [
    {
     "name": "stdout",
     "output_type": "stream",
     "text": [
      "{1, 2, 3}\n"
     ]
    }
   ],
   "source": [
    "set1={1,2,3}\n",
    "set2=set1.copy()\n",
    "print(set2)"
   ]
  },
  {
   "cell_type": "code",
   "execution_count": 5,
   "id": "7cf850b3",
   "metadata": {},
   "outputs": [
    {
     "name": "stdout",
     "output_type": "stream",
     "text": [
      "{1, 3}\n"
     ]
    }
   ],
   "source": [
    "set1={1,2,3}\n",
    "set2={6,7,2}\n",
    "print(set1.difference(set2))"
   ]
  },
  {
   "cell_type": "code",
   "execution_count": 6,
   "id": "2be7b042",
   "metadata": {},
   "outputs": [
    {
     "name": "stdout",
     "output_type": "stream",
     "text": [
      "{2}\n"
     ]
    }
   ],
   "source": [
    "set1={1,2,3}\n",
    "set2={6,7,2}\n",
    "print(set1.intersection(set2))"
   ]
  },
  {
   "cell_type": "code",
   "execution_count": 7,
   "id": "4a3a7934",
   "metadata": {},
   "outputs": [
    {
     "name": "stdout",
     "output_type": "stream",
     "text": [
      "{1, 2, 3, 6, 7}\n"
     ]
    }
   ],
   "source": [
    "set1={1,2,3}\n",
    "set2={6,7,2}\n",
    "print(set1.union(set2))"
   ]
  },
  {
   "cell_type": "code",
   "execution_count": 9,
   "id": "7bda2d14",
   "metadata": {},
   "outputs": [
    {
     "name": "stdout",
     "output_type": "stream",
     "text": [
      "{2, 3}\n"
     ]
    }
   ],
   "source": [
    "set1={1,2,3}\n",
    "set1.pop()\n",
    "print(set1)"
   ]
  },
  {
   "cell_type": "code",
   "execution_count": 10,
   "id": "25c0c522",
   "metadata": {},
   "outputs": [
    {
     "name": "stdout",
     "output_type": "stream",
     "text": [
      "{1, 3}\n"
     ]
    }
   ],
   "source": [
    "set1={1,2,3}\n",
    "set1.remove(2)\n",
    "print(set1)"
   ]
  },
  {
   "cell_type": "code",
   "execution_count": 11,
   "id": "745e86c5",
   "metadata": {},
   "outputs": [
    {
     "name": "stdout",
     "output_type": "stream",
     "text": [
      "{'headphones'}\n"
     ]
    }
   ],
   "source": [
    "electronics={'smartwatch','laptop','headphones'}\n",
    "home_appliances={'Washing machine','headphones'}\n",
    "print(electronics.intersection(home_appliances))"
   ]
  },
  {
   "cell_type": "code",
   "execution_count": null,
   "id": "5dc4b275",
   "metadata": {},
   "outputs": [],
   "source": []
  }
 ],
 "metadata": {
  "kernelspec": {
   "display_name": "Python 3 (ipykernel)",
   "language": "python",
   "name": "python3"
  },
  "language_info": {
   "codemirror_mode": {
    "name": "ipython",
    "version": 3
   },
   "file_extension": ".py",
   "mimetype": "text/x-python",
   "name": "python",
   "nbconvert_exporter": "python",
   "pygments_lexer": "ipython3",
   "version": "3.9.13"
  }
 },
 "nbformat": 4,
 "nbformat_minor": 5
}
