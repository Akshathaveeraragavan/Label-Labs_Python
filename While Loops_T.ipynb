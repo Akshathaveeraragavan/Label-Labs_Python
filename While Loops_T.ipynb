{
 "cells": [
  {
   "cell_type": "code",
   "execution_count": 1,
   "id": "e85b2839",
   "metadata": {},
   "outputs": [
    {
     "name": "stdout",
     "output_type": "stream",
     "text": [
      "Enter the password:324\n",
      "Wrong password\n",
      "Enter the password:76655\n",
      "Wrong password\n",
      "Enter the password:8788\n",
      "Wrong password\n",
      "Enter the password:12345\n",
      "You guessed it right !\n"
     ]
    }
   ],
   "source": [
    "password=input('Enter the password:')\n",
    "while password!='12345':\n",
    "    print('Wrong password')\n",
    "    password=input('Enter the password:')\n",
    "else:\n",
    "    print('You guessed it right !')"
   ]
  },
  {
   "cell_type": "code",
   "execution_count": null,
   "id": "0859691c",
   "metadata": {},
   "outputs": [],
   "source": [
    "fact of 3 = 3*2*1\n",
    "\n",
    "n=5\n",
    "while \n",
    "n*(n-1)\n",
    "\n",
    "n=n-1"
   ]
  }
 ],
 "metadata": {
  "kernelspec": {
   "display_name": "Python 3 (ipykernel)",
   "language": "python",
   "name": "python3"
  },
  "language_info": {
   "codemirror_mode": {
    "name": "ipython",
    "version": 3
   },
   "file_extension": ".py",
   "mimetype": "text/x-python",
   "name": "python",
   "nbconvert_exporter": "python",
   "pygments_lexer": "ipython3",
   "version": "3.9.13"
  }
 },
 "nbformat": 4,
 "nbformat_minor": 5
}
